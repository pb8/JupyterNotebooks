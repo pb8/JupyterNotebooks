{
 "cells": [
  {
   "cell_type": "code",
   "execution_count": 1,
   "metadata": {
    "collapsed": true
   },
   "outputs": [],
   "source": [
    "import pandas as pd\n",
    "import random"
   ]
  },
  {
   "cell_type": "code",
   "execution_count": 2,
   "metadata": {},
   "outputs": [
    {
     "name": "stdout",
     "output_type": "stream",
     "text": [
      "\n",
      "22493 rows\n"
     ]
    },
    {
     "data": {
      "text/html": [
       "<div>\n",
       "<style>\n",
       "    .dataframe thead tr:only-child th {\n",
       "        text-align: right;\n",
       "    }\n",
       "\n",
       "    .dataframe thead th {\n",
       "        text-align: left;\n",
       "    }\n",
       "\n",
       "    .dataframe tbody tr th {\n",
       "        vertical-align: top;\n",
       "    }\n",
       "</style>\n",
       "<table border=\"1\" class=\"dataframe\">\n",
       "  <thead>\n",
       "    <tr style=\"text-align: right;\">\n",
       "      <th></th>\n",
       "      <th>Text</th>\n",
       "      <th>Date</th>\n",
       "      <th>Favorites</th>\n",
       "      <th>Retweets</th>\n",
       "      <th>TweetID</th>\n",
       "      <th>tagged_text</th>\n",
       "    </tr>\n",
       "  </thead>\n",
       "  <tbody>\n",
       "    <tr>\n",
       "      <th>0</th>\n",
       "      <td>I have not heard any of the pundits or comment...</td>\n",
       "      <td>2016-12-21 13:29:38</td>\n",
       "      <td>14755</td>\n",
       "      <td>4055</td>\n",
       "      <td>811564284706689024</td>\n",
       "      <td>BEGIN HERE I have not heard any of the pundits...</td>\n",
       "    </tr>\n",
       "    <tr>\n",
       "      <th>1</th>\n",
       "      <td>I would have done even better in the election,...</td>\n",
       "      <td>2016-12-21 13:24:29</td>\n",
       "      <td>11129</td>\n",
       "      <td>2789</td>\n",
       "      <td>811562990285848576</td>\n",
       "      <td>BEGIN HERE I would have done even better in th...</td>\n",
       "    </tr>\n",
       "    <tr>\n",
       "      <th>2</th>\n",
       "      <td>Campaigning to win the Electoral College is mu...</td>\n",
       "      <td>2016-12-21 13:15:14</td>\n",
       "      <td>14906</td>\n",
       "      <td>3925</td>\n",
       "      <td>811560662853939200</td>\n",
       "      <td>BEGIN HERE Campaigning to win the Electoral Co...</td>\n",
       "    </tr>\n",
       "    <tr>\n",
       "      <th>3</th>\n",
       "      <td>Yes, it is true - Carlos Slim, the great busin...</td>\n",
       "      <td>2016-12-20 20:27:57</td>\n",
       "      <td>51424</td>\n",
       "      <td>12578</td>\n",
       "      <td>811307169043849216</td>\n",
       "      <td>BEGIN HERE Yes, it is true - Carlos Slim, the ...</td>\n",
       "    </tr>\n",
       "    <tr>\n",
       "      <th>4</th>\n",
       "      <td>especially how to get people, even with an unl...</td>\n",
       "      <td>2016-12-20 13:09:18</td>\n",
       "      <td>35699</td>\n",
       "      <td>8008</td>\n",
       "      <td>811196778779463684</td>\n",
       "      <td>BEGIN HERE especially how to get people, even ...</td>\n",
       "    </tr>\n",
       "  </tbody>\n",
       "</table>\n",
       "</div>"
      ],
      "text/plain": [
       "                                                Text                 Date  \\\n",
       "0  I have not heard any of the pundits or comment...  2016-12-21 13:29:38   \n",
       "1  I would have done even better in the election,...  2016-12-21 13:24:29   \n",
       "2  Campaigning to win the Electoral College is mu...  2016-12-21 13:15:14   \n",
       "3  Yes, it is true - Carlos Slim, the great busin...  2016-12-20 20:27:57   \n",
       "4  especially how to get people, even with an unl...  2016-12-20 13:09:18   \n",
       "\n",
       "   Favorites  Retweets             TweetID  \\\n",
       "0      14755      4055  811564284706689024   \n",
       "1      11129      2789  811562990285848576   \n",
       "2      14906      3925  811560662853939200   \n",
       "3      51424     12578  811307169043849216   \n",
       "4      35699      8008  811196778779463684   \n",
       "\n",
       "                                         tagged_text  \n",
       "0  BEGIN HERE I have not heard any of the pundits...  \n",
       "1  BEGIN HERE I would have done even better in th...  \n",
       "2  BEGIN HERE Campaigning to win the Electoral Co...  \n",
       "3  BEGIN HERE Yes, it is true - Carlos Slim, the ...  \n",
       "4  BEGIN HERE especially how to get people, even ...  "
      ]
     },
     "execution_count": 2,
     "metadata": {},
     "output_type": "execute_result"
    }
   ],
   "source": [
    "# tweets from https://www.kaggle.com/austinvernsonger/donaldtrumptweets\n",
    "df = pd.read_csv('trumptweets.csv')\n",
    "\n",
    "# remove obvious retweets\n",
    "df = df[~df.Text.str.contains('@realDonaldTrump', case=False)]\n",
    "\n",
    "df['Text'] = df.Text.str.replace('\"', '')\n",
    "df['tagged_text'] = 'BEGIN HERE ' + df.Text + ' END'\n",
    "\n",
    "print('\\n' + str(len(df.index)) + ' rows')\n",
    "\n",
    "df.head()"
   ]
  },
  {
   "cell_type": "code",
   "execution_count": 3,
   "metadata": {
    "collapsed": true
   },
   "outputs": [],
   "source": [
    "def generate_trigram(words):\n",
    "    if len(words) < 3:\n",
    "        return\n",
    "    for i in range(len(words)-2):\n",
    "        yield(words[i], words[i+1], words[i+2])\n",
    "\n",
    "def generate_model_words(series):\n",
    "    model = {}\n",
    "    for tweet in series:\n",
    "        if type(tweet) is not str:\n",
    "            continue\n",
    "        words = tweet.split()\n",
    "        for word1, word2, word3 in generate_trigram(words):\n",
    "            key = (word1, word2)\n",
    "            if key not in model:\n",
    "                model[key] = {}\n",
    "            if word3 not in model[key]:\n",
    "                model[key][word3] = 1\n",
    "            else:\n",
    "                model[key][word3] += 1\n",
    "    return(model)\n",
    "\n",
    "def get_next_word(word_dict):\n",
    "    words = []\n",
    "    for word in word_dict.keys():\n",
    "        for freq in range(word_dict[word]):\n",
    "            words.append(word)\n",
    "    return random.choice(words)   \n",
    "\n",
    "def generate_tweet_words(model):\n",
    "    new_tweet = []\n",
    "    word1 = 'BEGIN'\n",
    "    word2 = 'HERE'\n",
    "\n",
    "    while True:\n",
    "        word1, word2 = word2, get_next_word(model[(word1,word2)])\n",
    "        if word2 == 'END':\n",
    "            break\n",
    "        new_tweet.append(word2)\n",
    "\n",
    "    return(' '.join(new_tweet))"
   ]
  },
  {
   "cell_type": "code",
   "execution_count": 7,
   "metadata": {},
   "outputs": [
    {
     "name": "stdout",
     "output_type": "stream",
     "text": [
      "Business is a tremendous performance in his negative ads against me last week than President Obama put himself in a future attack!\n",
      "---\n",
      "Obama’s proposed budget has another meltdown … while giving a pathway to terrorists to enter any war without the help of Conservatives, that made for radio.\n",
      "---\n",
      ".@IanJamesPoulter Great going @McllroyRory on winning a major announcement concerning Carrier A.C. Company to stay there.” -Think Big\n",
      "---\n",
      "Via @CBNNews’ @TheBrodyFile: “Poll: Donald Trump Praise His Antiestablishment Bent” http://www.wsj.com/articles/iowans-drawn-to-donald-trump-praise-his-antiestablishment-bent-1437945968 … via dailycaller\n",
      "---\n",
      "The @BarackObama administration now claims that @MittRomney's birth certificate cannot survive a Hillary presidency. #Debate #BigLeagueTruth\n",
      "---\n",
      "I will be interviewed on @ABC at 10:00 P.M. Enjoy!\n",
      "---\n",
      "@BubbasLmky But hard work!\n",
      "---\n",
      "With great patriots have accomplished so much when I hosted in June, in which they sit.\n",
      "---\n",
      "I look on golf courses—but see photo of @MittRomney discussing why Sony should not have been loyal to each new twist of fate.\n",
      "---\n",
      "Amazingly @AnthonyWeiner is going really well!\n",
      "---\n"
     ]
    }
   ],
   "source": [
    "model = generate_model_words(df.tagged_text)\n",
    "\n",
    "for i in range(10):\n",
    "    print(generate_tweet_words(model))\n",
    "    print('---')"
   ]
  },
  {
   "cell_type": "code",
   "execution_count": 14,
   "metadata": {},
   "outputs": [
    {
     "name": "stdout",
     "output_type": "stream",
     "text": [
      "@felixs: Donald Trump's beach mansion is the driving force that has no answer.\n",
      "---\n",
      ".@TrumpNationalNY- a great year.\n",
      "---\n",
      "@joeyjoe78: Great point! Freedom is never more than 100 years. Great insult to women. Resign now or never! We need you.\n",
      "---\n",
      "@kdawnpatterson While I was thinking last night with @piersmorgan explaining why Mitt should bring Secretaty Sebelius into his newest hotel? We are!\n",
      "---\n",
      "R.P.Virginia has lost his first year. It is unsustainable and a wonderful new book now!\n",
      "---\n",
      "@RustinNiles Just killing time!\n",
      "---\n",
      "Along with a cup of coffee in his mouth!\n",
      "---\n",
      "@pzpower @WWE Vince is fantastic!\n",
      "---\n",
      "Horrible killing of bald eagles.\n",
      "---\n",
      "@CharlesRBennett Thank you GLN!\n",
      "---\n"
     ]
    }
   ],
   "source": [
    "def generate_tweet_words_random(model):\n",
    "    new_tweet = []\n",
    "    word1 = 'BEGIN'\n",
    "    word2 = 'HERE'\n",
    "\n",
    "    while True:\n",
    "        word1, word2 = word2, random.choice(list(model[(word1,word2)]))\n",
    "        if word2 == 'END':\n",
    "            break\n",
    "        new_tweet.append(word2)\n",
    "\n",
    "    return(' '.join(new_tweet))\n",
    "\n",
    "model = generate_model_words(df.tagged_text)\n",
    "\n",
    "for i in range(10):\n",
    "    print(generate_tweet_words_random(model))\n",
    "    print('---')"
   ]
  }
 ],
 "metadata": {
  "kernelspec": {
   "display_name": "Python 3",
   "language": "python",
   "name": "python3"
  },
  "language_info": {
   "codemirror_mode": {
    "name": "ipython",
    "version": 3
   },
   "file_extension": ".py",
   "mimetype": "text/x-python",
   "name": "python",
   "nbconvert_exporter": "python",
   "pygments_lexer": "ipython3",
   "version": "3.6.1"
  }
 },
 "nbformat": 4,
 "nbformat_minor": 2
}
