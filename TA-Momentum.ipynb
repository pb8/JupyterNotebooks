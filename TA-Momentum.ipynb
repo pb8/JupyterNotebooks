{
 "cells": [
  {
   "cell_type": "code",
   "execution_count": 1,
   "metadata": {
    "collapsed": true
   },
   "outputs": [],
   "source": [
    "import pandas as pd\n",
    "import pandas_datareader.data as web\n",
    "import datetime\n",
    "import matplotlib.pyplot as plt\n",
    "\n",
    "%matplotlib inline"
   ]
  },
  {
   "cell_type": "code",
   "execution_count": 2,
   "metadata": {},
   "outputs": [],
   "source": [
    "# https://fred.stlouisfed.org/categories/94\n",
    "# DEXJPUS = USDJPY\n",
    "# DEXUSEU = EURUSD\n",
    "# DEXUSUK = GBPUSD\n",
    "# DEXSZUS = USDCHF\n",
    "\n",
    "#start = datetime.datetime(2005, 12, 1)\n",
    "#end = datetime.datetime(2016, 1, 1)\n",
    "\n",
    "#ccy = web.DataReader('DEXUSUK', 'fred', start, end)\n",
    "#ccy.rename(columns={'DEXUSUK': 'price'}, inplace=True)\n",
    "#ccy = ccy.fillna(method='pad')\n",
    "#ccy.head()"
   ]
  },
  {
   "cell_type": "code",
   "execution_count": 3,
   "metadata": {},
   "outputs": [
    {
     "data": {
      "text/html": [
       "<div>\n",
       "<style>\n",
       "    .dataframe thead tr:only-child th {\n",
       "        text-align: right;\n",
       "    }\n",
       "\n",
       "    .dataframe thead th {\n",
       "        text-align: left;\n",
       "    }\n",
       "\n",
       "    .dataframe tbody tr th {\n",
       "        vertical-align: top;\n",
       "    }\n",
       "</style>\n",
       "<table border=\"1\" class=\"dataframe\">\n",
       "  <thead>\n",
       "    <tr style=\"text-align: right;\">\n",
       "      <th></th>\n",
       "      <th>Open</th>\n",
       "      <th>High</th>\n",
       "      <th>Low</th>\n",
       "      <th>price</th>\n",
       "      <th>Volume</th>\n",
       "    </tr>\n",
       "    <tr>\n",
       "      <th>Date</th>\n",
       "      <th></th>\n",
       "      <th></th>\n",
       "      <th></th>\n",
       "      <th></th>\n",
       "      <th></th>\n",
       "    </tr>\n",
       "  </thead>\n",
       "  <tbody>\n",
       "    <tr>\n",
       "      <th>2005-12-01</th>\n",
       "      <td>8.24</td>\n",
       "      <td>8.30</td>\n",
       "      <td>7.96</td>\n",
       "      <td>8.10</td>\n",
       "      <td>30001500</td>\n",
       "    </tr>\n",
       "    <tr>\n",
       "      <th>2005-12-02</th>\n",
       "      <td>8.09</td>\n",
       "      <td>8.20</td>\n",
       "      <td>8.01</td>\n",
       "      <td>8.15</td>\n",
       "      <td>13325400</td>\n",
       "    </tr>\n",
       "    <tr>\n",
       "      <th>2005-12-05</th>\n",
       "      <td>8.10</td>\n",
       "      <td>8.11</td>\n",
       "      <td>7.99</td>\n",
       "      <td>8.06</td>\n",
       "      <td>17230300</td>\n",
       "    </tr>\n",
       "    <tr>\n",
       "      <th>2005-12-06</th>\n",
       "      <td>8.09</td>\n",
       "      <td>8.16</td>\n",
       "      <td>8.06</td>\n",
       "      <td>8.11</td>\n",
       "      <td>11626300</td>\n",
       "    </tr>\n",
       "    <tr>\n",
       "      <th>2005-12-07</th>\n",
       "      <td>8.20</td>\n",
       "      <td>8.29</td>\n",
       "      <td>8.11</td>\n",
       "      <td>8.20</td>\n",
       "      <td>19676600</td>\n",
       "    </tr>\n",
       "  </tbody>\n",
       "</table>\n",
       "</div>"
      ],
      "text/plain": [
       "            Open  High   Low  price    Volume\n",
       "Date                                         \n",
       "2005-12-01  8.24  8.30  7.96   8.10  30001500\n",
       "2005-12-02  8.09  8.20  8.01   8.15  13325400\n",
       "2005-12-05  8.10  8.11  7.99   8.06  17230300\n",
       "2005-12-06  8.09  8.16  8.06   8.11  11626300\n",
       "2005-12-07  8.20  8.29  8.11   8.20  19676600"
      ]
     },
     "execution_count": 3,
     "metadata": {},
     "output_type": "execute_result"
    }
   ],
   "source": [
    "start = datetime.datetime(2005, 12, 1)\n",
    "end = datetime.datetime(2016, 1, 1)\n",
    "\n",
    "ccy = web.DataReader('F', 'google', start, end)\n",
    "ccy.rename(columns={'Close': 'price'}, inplace=True)\n",
    "ccy = ccy.fillna(method='pad')\n",
    "ccy.head()"
   ]
  },
  {
   "cell_type": "code",
   "execution_count": 4,
   "metadata": {},
   "outputs": [],
   "source": [
    "ccy = ccy.assign(daily_ret = ccy.price.pct_change(1))\n",
    "ccy = ccy.assign(yest_ret = ccy.daily_ret.shift(1))\n",
    "ccy = ccy.assign(tmrw_price = ccy.price.shift(-1))\n",
    "ccy = ccy.assign(tmrw_ret = ccy.daily_ret.shift(-1))\n",
    "ccy = ccy.loc['20060101':]"
   ]
  },
  {
   "cell_type": "code",
   "execution_count": 5,
   "metadata": {},
   "outputs": [
    {
     "data": {
      "text/html": [
       "<div>\n",
       "<style>\n",
       "    .dataframe thead tr:only-child th {\n",
       "        text-align: right;\n",
       "    }\n",
       "\n",
       "    .dataframe thead th {\n",
       "        text-align: left;\n",
       "    }\n",
       "\n",
       "    .dataframe tbody tr th {\n",
       "        vertical-align: top;\n",
       "    }\n",
       "</style>\n",
       "<table border=\"1\" class=\"dataframe\">\n",
       "  <thead>\n",
       "    <tr style=\"text-align: right;\">\n",
       "      <th></th>\n",
       "      <th>Open</th>\n",
       "      <th>High</th>\n",
       "      <th>Low</th>\n",
       "      <th>price</th>\n",
       "      <th>Volume</th>\n",
       "      <th>daily_ret</th>\n",
       "      <th>yest_ret</th>\n",
       "      <th>tmrw_price</th>\n",
       "      <th>tmrw_ret</th>\n",
       "      <th>signal_oneday</th>\n",
       "      <th>signal_twoinarow</th>\n",
       "      <th>signal_incrmomentum</th>\n",
       "    </tr>\n",
       "    <tr>\n",
       "      <th>Date</th>\n",
       "      <th></th>\n",
       "      <th></th>\n",
       "      <th></th>\n",
       "      <th></th>\n",
       "      <th></th>\n",
       "      <th></th>\n",
       "      <th></th>\n",
       "      <th></th>\n",
       "      <th></th>\n",
       "      <th></th>\n",
       "      <th></th>\n",
       "      <th></th>\n",
       "    </tr>\n",
       "  </thead>\n",
       "  <tbody>\n",
       "    <tr>\n",
       "      <th>2006-01-03</th>\n",
       "      <td>7.72</td>\n",
       "      <td>7.83</td>\n",
       "      <td>7.66</td>\n",
       "      <td>7.83</td>\n",
       "      <td>16903600</td>\n",
       "      <td>0.014249</td>\n",
       "      <td>-0.011524</td>\n",
       "      <td>8.01</td>\n",
       "      <td>0.022989</td>\n",
       "      <td>1</td>\n",
       "      <td>0</td>\n",
       "      <td>0</td>\n",
       "    </tr>\n",
       "    <tr>\n",
       "      <th>2006-01-04</th>\n",
       "      <td>7.83</td>\n",
       "      <td>8.08</td>\n",
       "      <td>7.82</td>\n",
       "      <td>8.01</td>\n",
       "      <td>35626000</td>\n",
       "      <td>0.022989</td>\n",
       "      <td>0.014249</td>\n",
       "      <td>8.35</td>\n",
       "      <td>0.042447</td>\n",
       "      <td>1</td>\n",
       "      <td>1</td>\n",
       "      <td>1</td>\n",
       "    </tr>\n",
       "    <tr>\n",
       "      <th>2006-01-05</th>\n",
       "      <td>8.05</td>\n",
       "      <td>8.40</td>\n",
       "      <td>8.03</td>\n",
       "      <td>8.35</td>\n",
       "      <td>31987700</td>\n",
       "      <td>0.042447</td>\n",
       "      <td>0.022989</td>\n",
       "      <td>8.52</td>\n",
       "      <td>0.020359</td>\n",
       "      <td>1</td>\n",
       "      <td>1</td>\n",
       "      <td>1</td>\n",
       "    </tr>\n",
       "    <tr>\n",
       "      <th>2006-01-06</th>\n",
       "      <td>8.30</td>\n",
       "      <td>8.66</td>\n",
       "      <td>8.27</td>\n",
       "      <td>8.52</td>\n",
       "      <td>40423300</td>\n",
       "      <td>0.020359</td>\n",
       "      <td>0.042447</td>\n",
       "      <td>8.62</td>\n",
       "      <td>0.011737</td>\n",
       "      <td>1</td>\n",
       "      <td>1</td>\n",
       "      <td>0</td>\n",
       "    </tr>\n",
       "    <tr>\n",
       "      <th>2006-01-09</th>\n",
       "      <td>8.65</td>\n",
       "      <td>8.86</td>\n",
       "      <td>8.60</td>\n",
       "      <td>8.62</td>\n",
       "      <td>28958400</td>\n",
       "      <td>0.011737</td>\n",
       "      <td>0.020359</td>\n",
       "      <td>8.77</td>\n",
       "      <td>0.017401</td>\n",
       "      <td>1</td>\n",
       "      <td>1</td>\n",
       "      <td>0</td>\n",
       "    </tr>\n",
       "  </tbody>\n",
       "</table>\n",
       "</div>"
      ],
      "text/plain": [
       "            Open  High   Low  price    Volume  daily_ret  yest_ret  \\\n",
       "Date                                                                 \n",
       "2006-01-03  7.72  7.83  7.66   7.83  16903600   0.014249 -0.011524   \n",
       "2006-01-04  7.83  8.08  7.82   8.01  35626000   0.022989  0.014249   \n",
       "2006-01-05  8.05  8.40  8.03   8.35  31987700   0.042447  0.022989   \n",
       "2006-01-06  8.30  8.66  8.27   8.52  40423300   0.020359  0.042447   \n",
       "2006-01-09  8.65  8.86  8.60   8.62  28958400   0.011737  0.020359   \n",
       "\n",
       "            tmrw_price  tmrw_ret  signal_oneday  signal_twoinarow  \\\n",
       "Date                                                                \n",
       "2006-01-03        8.01  0.022989              1                 0   \n",
       "2006-01-04        8.35  0.042447              1                 1   \n",
       "2006-01-05        8.52  0.020359              1                 1   \n",
       "2006-01-06        8.62  0.011737              1                 1   \n",
       "2006-01-09        8.77  0.017401              1                 1   \n",
       "\n",
       "            signal_incrmomentum  \n",
       "Date                             \n",
       "2006-01-03                    0  \n",
       "2006-01-04                    1  \n",
       "2006-01-05                    1  \n",
       "2006-01-06                    0  \n",
       "2006-01-09                    0  "
      ]
     },
     "execution_count": 5,
     "metadata": {},
     "output_type": "execute_result"
    }
   ],
   "source": [
    "def signal_oneday(row):\n",
    "    if row.daily_ret > 0:\n",
    "        return 1\n",
    "    if row.daily_ret < 0:\n",
    "        return -1\n",
    "    return 0\n",
    "\n",
    "ccy = ccy.assign(signal_oneday = ccy.apply(signal_oneday, axis=1))\n",
    "\n",
    "def signal_twoinarow(row):\n",
    "    if row.daily_ret > 0 and row.yest_ret > 0:\n",
    "        return 1\n",
    "    if row.daily_ret < 0 and row.yest_ret < 0:\n",
    "        return -1\n",
    "    return 0\n",
    "\n",
    "ccy = ccy.assign(signal_twoinarow = ccy.apply(signal_twoinarow, axis=1))\n",
    "\n",
    "def signal_incrmomentum(row):\n",
    "    if row.daily_ret > 0 and row.yest_ret > 0 and row.daily_ret > row.yest_ret:\n",
    "        return 1\n",
    "    if row.daily_ret < 0 and row.yest_ret < 0 and row.daily_ret < row.yest_ret:\n",
    "        return -1\n",
    "    return 0\n",
    "\n",
    "ccy = ccy.assign(signal_incrmomentum = ccy.apply(signal_incrmomentum, axis=1))\n",
    "\n",
    "\n",
    "ccy.head()"
   ]
  },
  {
   "cell_type": "code",
   "execution_count": 6,
   "metadata": {},
   "outputs": [
    {
     "data": {
      "text/plain": [
       "<matplotlib.axes._subplots.AxesSubplot at 0x111933240>"
      ]
     },
     "execution_count": 6,
     "metadata": {},
     "output_type": "execute_result"
    },
    {
     "data": {
      "image/png": "[encoded data removed]",
      "text/plain": [
       "<matplotlib.figure.Figure at 0x1119356a0>"
      ]
     },
     "metadata": {},
     "output_type": "display_data"
    }
   ],
   "source": [
    "buyandhold = ((ccy.tmrw_ret)+1).cumprod()-1\n",
    "oneday = ((ccy.signal_oneday * ccy.tmrw_ret)+1).cumprod()-1\n",
    "twoinarow = ((ccy.signal_twoinarow * ccy.tmrw_ret)+1).cumprod()-1\n",
    "incrmomentum = ((ccy.signal_incrmomentum * ccy.tmrw_ret)+1).cumprod()-1\n",
    "\n",
    "ret = pd.DataFrame({\n",
    "    'buyandhold': buyandhold,\n",
    "    'oneday': oneday,\n",
    "    'twoinarow': twoinarow, \n",
    "    'incrmomentum': incrmomentum\n",
    "})\n",
    "ret.plot()"
   ]
  },
  {
   "cell_type": "code",
   "execution_count": 7,
   "metadata": {},
   "outputs": [
    {
     "data": {
      "text/plain": [
       "<matplotlib.axes._subplots.AxesSubplot at 0x111a758d0>"
      ]
     },
     "execution_count": 7,
     "metadata": {},
     "output_type": "execute_result"
    },
    {
     "data": {
      "image/png": "[encoded data removed]",
      "text/plain": [
       "<matplotlib.figure.Figure at 0x10eec42b0>"
      ]
     },
     "metadata": {},
     "output_type": "display_data"
    }
   ],
   "source": [
    "ccy.daily_ret.hist(bins=50)"
   ]
  }
 ],
 "metadata": {
  "kernelspec": {
   "display_name": "Python 3",
   "language": "python",
   "name": "python3"
  },
  "language_info": {
   "codemirror_mode": {
    "name": "ipython",
    "version": 3
   },
   "file_extension": ".py",
   "mimetype": "text/x-python",
   "name": "python",
   "nbconvert_exporter": "python",
   "pygments_lexer": "ipython3",
   "version": "3.5.2"
  }
 },
 "nbformat": 4,
 "nbformat_minor": 2
}
