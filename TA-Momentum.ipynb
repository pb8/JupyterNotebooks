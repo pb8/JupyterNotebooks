{
 "cells": [
  {
   "cell_type": "code",
   "execution_count": 1,
   "metadata": {
    "collapsed": true
   },
   "outputs": [],
   "source": [
    "import pandas as pd\n",
    "import pandas_datareader.data as web\n",
    "import datetime\n",
    "\n",
    "%matplotlib inline"
   ]
  },
  {
   "cell_type": "code",
   "execution_count": 2,
   "metadata": {},
   "outputs": [
    {
     "data": {
      "text/html": [
       "<div>\n",
       "<style>\n",
       "    .dataframe thead tr:only-child th {\n",
       "        text-align: right;\n",
       "    }\n",
       "\n",
       "    .dataframe thead th {\n",
       "        text-align: left;\n",
       "    }\n",
       "\n",
       "    .dataframe tbody tr th {\n",
       "        vertical-align: top;\n",
       "    }\n",
       "</style>\n",
       "<table border=\"1\" class=\"dataframe\">\n",
       "  <thead>\n",
       "    <tr style=\"text-align: right;\">\n",
       "      <th></th>\n",
       "      <th>price</th>\n",
       "    </tr>\n",
       "    <tr>\n",
       "      <th>DATE</th>\n",
       "      <th></th>\n",
       "    </tr>\n",
       "  </thead>\n",
       "  <tbody>\n",
       "    <tr>\n",
       "      <th>2006-12-01</th>\n",
       "      <td>1.9794</td>\n",
       "    </tr>\n",
       "    <tr>\n",
       "      <th>2006-12-04</th>\n",
       "      <td>1.9788</td>\n",
       "    </tr>\n",
       "    <tr>\n",
       "      <th>2006-12-05</th>\n",
       "      <td>1.9746</td>\n",
       "    </tr>\n",
       "    <tr>\n",
       "      <th>2006-12-06</th>\n",
       "      <td>1.9692</td>\n",
       "    </tr>\n",
       "    <tr>\n",
       "      <th>2006-12-07</th>\n",
       "      <td>1.9628</td>\n",
       "    </tr>\n",
       "  </tbody>\n",
       "</table>\n",
       "</div>"
      ],
      "text/plain": [
       "             price\n",
       "DATE              \n",
       "2006-12-01  1.9794\n",
       "2006-12-04  1.9788\n",
       "2006-12-05  1.9746\n",
       "2006-12-06  1.9692\n",
       "2006-12-07  1.9628"
      ]
     },
     "execution_count": 2,
     "metadata": {},
     "output_type": "execute_result"
    }
   ],
   "source": [
    "# https://fred.stlouisfed.org/categories/94\n",
    "# DEXJPUS = USDJPY\n",
    "# DEXUSEU = EURUSD\n",
    "# DEXUSUK = GBPUSD\n",
    "# DEXSZUS = USDCHF\n",
    "\n",
    "start = datetime.datetime(2006, 12, 1)\n",
    "end = datetime.datetime(2017, 1, 1)\n",
    "\n",
    "ccy = web.DataReader('DEXUSUK', 'fred', start, end)\n",
    "ccy.rename(columns={'DEXUSUK': 'price'}, inplace=True)\n",
    "ccy = ccy.fillna(method='pad')\n",
    "ccy.head()"
   ]
  },
  {
   "cell_type": "code",
   "execution_count": 3,
   "metadata": {},
   "outputs": [],
   "source": [
    "ccy = ccy.assign(daily_ret = ccy.price.pct_change(1))\n",
    "ccy = ccy.assign(yest_ret = ccy.daily_ret.shift(1))\n",
    "ccy = ccy.assign(tmrw_price = ccy.price.shift(-1))\n",
    "ccy = ccy.assign(tmrw_ret = ccy.daily_ret.shift(-1))\n",
    "ccy = ccy.loc['20070101':]"
   ]
  },
  {
   "cell_type": "code",
   "execution_count": 4,
   "metadata": {},
   "outputs": [
    {
     "data": {
      "text/html": [
       "<div>\n",
       "<style>\n",
       "    .dataframe thead tr:only-child th {\n",
       "        text-align: right;\n",
       "    }\n",
       "\n",
       "    .dataframe thead th {\n",
       "        text-align: left;\n",
       "    }\n",
       "\n",
       "    .dataframe tbody tr th {\n",
       "        vertical-align: top;\n",
       "    }\n",
       "</style>\n",
       "<table border=\"1\" class=\"dataframe\">\n",
       "  <thead>\n",
       "    <tr style=\"text-align: right;\">\n",
       "      <th></th>\n",
       "      <th>price</th>\n",
       "      <th>daily_ret</th>\n",
       "      <th>yest_ret</th>\n",
       "      <th>tmrw_price</th>\n",
       "      <th>tmrw_ret</th>\n",
       "      <th>momentum_signal</th>\n",
       "    </tr>\n",
       "    <tr>\n",
       "      <th>DATE</th>\n",
       "      <th></th>\n",
       "      <th></th>\n",
       "      <th></th>\n",
       "      <th></th>\n",
       "      <th></th>\n",
       "      <th></th>\n",
       "    </tr>\n",
       "  </thead>\n",
       "  <tbody>\n",
       "    <tr>\n",
       "      <th>2007-01-01</th>\n",
       "      <td>1.9586</td>\n",
       "      <td>0.000000</td>\n",
       "      <td>-0.001784</td>\n",
       "      <td>1.9736</td>\n",
       "      <td>0.007659</td>\n",
       "      <td>0</td>\n",
       "    </tr>\n",
       "    <tr>\n",
       "      <th>2007-01-02</th>\n",
       "      <td>1.9736</td>\n",
       "      <td>0.007659</td>\n",
       "      <td>0.000000</td>\n",
       "      <td>1.9498</td>\n",
       "      <td>-0.012059</td>\n",
       "      <td>0</td>\n",
       "    </tr>\n",
       "    <tr>\n",
       "      <th>2007-01-03</th>\n",
       "      <td>1.9498</td>\n",
       "      <td>-0.012059</td>\n",
       "      <td>0.007659</td>\n",
       "      <td>1.9443</td>\n",
       "      <td>-0.002821</td>\n",
       "      <td>0</td>\n",
       "    </tr>\n",
       "    <tr>\n",
       "      <th>2007-01-04</th>\n",
       "      <td>1.9443</td>\n",
       "      <td>-0.002821</td>\n",
       "      <td>-0.012059</td>\n",
       "      <td>1.9305</td>\n",
       "      <td>-0.007098</td>\n",
       "      <td>-1</td>\n",
       "    </tr>\n",
       "    <tr>\n",
       "      <th>2007-01-05</th>\n",
       "      <td>1.9305</td>\n",
       "      <td>-0.007098</td>\n",
       "      <td>-0.002821</td>\n",
       "      <td>1.9385</td>\n",
       "      <td>0.004144</td>\n",
       "      <td>-1</td>\n",
       "    </tr>\n",
       "  </tbody>\n",
       "</table>\n",
       "</div>"
      ],
      "text/plain": [
       "             price  daily_ret  yest_ret  tmrw_price  tmrw_ret  momentum_signal\n",
       "DATE                                                                          \n",
       "2007-01-01  1.9586   0.000000 -0.001784      1.9736  0.007659                0\n",
       "2007-01-02  1.9736   0.007659  0.000000      1.9498 -0.012059                0\n",
       "2007-01-03  1.9498  -0.012059  0.007659      1.9443 -0.002821                0\n",
       "2007-01-04  1.9443  -0.002821 -0.012059      1.9305 -0.007098               -1\n",
       "2007-01-05  1.9305  -0.007098 -0.002821      1.9385  0.004144               -1"
      ]
     },
     "execution_count": 4,
     "metadata": {},
     "output_type": "execute_result"
    }
   ],
   "source": [
    "def momentum_signal(row):\n",
    "    if row.daily_ret > 0 and row.yest_ret > 0:\n",
    "        return 1\n",
    "    if row.daily_ret < 0 and row.yest_ret < 0:\n",
    "        return -1\n",
    "    return 0\n",
    "\n",
    "ccy = ccy.assign(momentum_signal = ccy.apply(momentum_signal, axis=1))\n",
    "ccy.head()"
   ]
  },
  {
   "cell_type": "code",
   "execution_count": 5,
   "metadata": {},
   "outputs": [
    {
     "data": {
      "text/plain": [
       "<matplotlib.axes._subplots.AxesSubplot at 0x10edc1f60>"
      ]
     },
     "execution_count": 5,
     "metadata": {},
     "output_type": "execute_result"
    },
    {
     "data": {
      "image/png": "[encoded data removed]",
      "text/plain": [
       "<matplotlib.figure.Figure at 0x10edbada0>"
      ]
     },
     "metadata": {},
     "output_type": "display_data"
    }
   ],
   "source": [
    "model_ret = ((ccy.momentum_signal * ccy.tmrw_ret)+1).cumprod()-1\n",
    "model_ret.plot()"
   ]
  }
 ],
 "metadata": {
  "kernelspec": {
   "display_name": "Python 3",
   "language": "python",
   "name": "python3"
  },
  "language_info": {
   "codemirror_mode": {
    "name": "ipython",
    "version": 3
   },
   "file_extension": ".py",
   "mimetype": "text/x-python",
   "name": "python",
   "nbconvert_exporter": "python",
   "pygments_lexer": "ipython3",
   "version": "3.5.2"
  }
 },
 "nbformat": 4,
 "nbformat_minor": 2
}
