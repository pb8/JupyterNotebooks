{
 "cells": [
  {
   "cell_type": "markdown",
   "metadata": {},
   "source": [
    "# Simplex algorithm in python 3.5\n",
    "\n",
    "Sample problem from CLRS 3rd ed., ch.29, pg.846\n",
    "\n",
    "```\n",
    "Maximise: \n",
    "    x_1 + x_2\n",
    "    \n",
    "Subject to:\n",
    "    4*x_1 - x_2 <= 8\n",
    "    2*x_1 + x_2 <= 10\n",
    "    5*x_1 - 2*x_2 >= -2\n",
    "\n",
    "Where:\n",
    "    x_1, x_2 >= 0\n",
    "```\n",
    "\n",
    "Result should be `Maximum of 8.0 at x1=2.0, x2=6.0`. This is confirmed by scipy.optimise.linprog, or visually.\n",
    "\n",
    "My function is returning `Maximum of 7.0 at x1=3.0, x2=4.0`. What's going wrong?\n"
   ]
  },
  {
   "cell_type": "markdown",
   "metadata": {},
   "source": [
    "## My version:"
   ]
  },
  {
   "cell_type": "code",
   "execution_count": 1,
   "metadata": {
    "collapsed": true
   },
   "outputs": [],
   "source": [
    "def pivot(tableau, row, column):\n",
    "    n = len(tableau[0])\n",
    "    m = len(tableau) - 1\n",
    "    pivot_value = tableau[row][column]\n",
    "\n",
    "    for i in range(0, n):\n",
    "        tableau[row][i] = tableau[row][i] / pivot_value\n",
    "\n",
    "    for i in range(0,m+1):\n",
    "        if i != row:\n",
    "            ratio = tableau[i][column]\n",
    "            for j in range(0, n):\n",
    "                tableau[i][j] -= ratio * tableau[row][j]\n",
    "\n",
    "    return tableau\n",
    "\n",
    "\n",
    "def simplex(tableau):\n",
    "    n = len(tableau[0])\n",
    "    m = len(tableau) - 1\n",
    "\n",
    "    optimal = False\n",
    "    unbounded = False\n",
    "    while (not optimal) and (not unbounded):\n",
    "        pivot_column = 0\n",
    "        min_value = 0.\n",
    "        for i in range (1,(n-m)):\n",
    "            if tableau[0][i] < min_value:\n",
    "                min_value = tableau[0][i]\n",
    "                pivot_column = i\n",
    "\n",
    "        if pivot_column == 0:\n",
    "            optimal = True\n",
    "            continue\n",
    "\n",
    "        pivot_row = 0\n",
    "        min_ratio = -1.\n",
    "        for i in range(1,(m+1)):\n",
    "            if tableau[i][pivot_column] > 0:\n",
    "                if ((tableau[i][0] / tableau[i][pivot_column]) < min_ratio) or (min_ratio == -1.):\n",
    "                    min_ratio = (tableau[i][0] / tableau[i][pivot_column])\n",
    "                    pivot_row = i\n",
    "\n",
    "        if min_ratio == -1.:\n",
    "            unbounded = True\n",
    "            continue\n",
    "\n",
    "        tableau = pivot(tableau, pivot_row, pivot_column)\n",
    "        \n",
    "    return tableau\n",
    "\n",
    "def print_tableau(tableau):\n",
    "    print(\"###\")\n",
    "    for row in tableau:\n",
    "        print(row)        \n",
    "    print(\"###\")\n",
    "    return\n",
    "\n",
    "def get_basic_solution(tableau):\n",
    "    n = len(tableau[0])\n",
    "    m = len(tableau) - 1\n",
    "\n",
    "    solution = []\n",
    "\n",
    "    for c in range(1, n):\n",
    "        non_zeros = 0\n",
    "        non_zero = -1\n",
    "        for r in range(0,m+1):\n",
    "            if tableau[r][c] != 0:\n",
    "                non_zeros += 1\n",
    "                non_zero = r\n",
    "\n",
    "        if non_zeros != 1:\n",
    "            solution.append(0)\n",
    "        else:\n",
    "            solution.append(tableau[non_zero][0] / tableau[non_zero][c])\n",
    "    \n",
    "    return solution"
   ]
  },
  {
   "cell_type": "code",
   "execution_count": 2,
   "metadata": {
    "collapsed": false
   },
   "outputs": [
    {
     "name": "stdout",
     "output_type": "stream",
     "text": [
      "Maximum of 7.0 at x1=3.0, x2=4.0\n"
     ]
    }
   ],
   "source": [
    "'''\n",
    "Example from CLRS 3rd ed., ch.29, pg.846\n",
    "\n",
    "Maximise: \n",
    "    x_1 + x_2\n",
    "    \n",
    "Subject to:\n",
    "    4*x_1 - x_2 <= 8\n",
    "    2*x_1 + x_2 <= 10\n",
    "    5*x_1 - 2*x_2 >= -2\n",
    "\n",
    "Where:\n",
    "    x_1, x_2 >= 0\n",
    "'''\n",
    "\n",
    "tableau = [[ 0., -1., -1., 0., 0., 0.],\n",
    "          [ 8.,  4., -1., 1., 0., 0.],\n",
    "          [10.,  2.,  1., 0., 1., 0.],\n",
    "          [ 2., -5.,  2., 0., 0., 1.]]\n",
    "\n",
    "result = simplex(tableau)\n",
    "# print_tableau(result)\n",
    "sol = get_basic_solution(result)\n",
    "\n",
    "print(\"Maximum of {0} at x1={1}, x2={2}\".format(result[0][0], sol[0], sol[1]))\n"
   ]
  },
  {
   "cell_type": "markdown",
   "metadata": {},
   "source": [
    "## Scipy.optimise version:"
   ]
  },
  {
   "cell_type": "code",
   "execution_count": 3,
   "metadata": {
    "collapsed": false
   },
   "outputs": [
    {
     "name": "stdout",
     "output_type": "stream",
     "text": [
      "Maximum of 8.0 at x1=2.0, x2=6.0\n"
     ]
    }
   ],
   "source": [
    "from scipy.optimize import linprog\n",
    "\n",
    "c = [-1, -1] # convert objective to minimise\n",
    "A = [[4, -1], \n",
    "     [2, 1],\n",
    "     [-5, 2]] # convert >= to <=\n",
    "b = [8, 10, 2]\n",
    "bounds = [[0, None],\n",
    "          [0, None]]\n",
    "\n",
    "res = linprog(c, A, b, bounds=bounds)\n",
    "print(\"Maximum of {0} at x1={1}, x2={2}\".format(res.fun*-1, res.x[0], res.x[1]))"
   ]
  },
  {
   "cell_type": "markdown",
   "metadata": {},
   "source": [
    "## Graphical version:"
   ]
  },
  {
   "cell_type": "code",
   "execution_count": 4,
   "metadata": {
    "collapsed": false
   },
   "outputs": [
    {
     "data": {
      "image/png": "[encoded data removed]",
      "text/plain": [
       "<matplotlib.figure.Figure at 0x70960b8>"
      ]
     },
     "metadata": {},
     "output_type": "display_data"
    }
   ],
   "source": [
    "# need to update matplotlib sometime\n",
    "from IPython.utils.shimmodule import ShimWarning\n",
    "import warnings; warnings.simplefilter('ignore', ShimWarning)\n",
    "from IPython.html import widgets\n",
    "\n",
    "%matplotlib inline\n",
    "import numpy as np\n",
    "from matplotlib import pyplot as plt\n",
    "from matplotlib.path import Path\n",
    "from matplotlib.patches import PathPatch\n",
    "\n",
    "import seaborn as sns\n",
    "sns.set_palette('Set1')\n",
    "\n",
    "fig, ax = plt.subplots(figsize=(8, 8))\n",
    "x_1 = np.linspace(0, 20)\n",
    "\n",
    "# Constraint A_1: x_2 >= 4*x_1 - 8\n",
    "plt.plot(x_1, 4*x_1 - 8, lw=3, label='A_1')\n",
    "plt.fill_between(x_1, 10, 4*x_1 - 8, alpha=0.1)\n",
    "\n",
    "# Constraint A_2: x_2 <= 10 - 2*x_1\n",
    "plt.plot(x_1, 10 - 2*x_1, lw=3, label='A_2')\n",
    "plt.fill_between(x_1, 0, 10 - 2*x_1, alpha=0.1)\n",
    "\n",
    "# Constraint A_3: x_2 <= 1 + 2.5*x_1\n",
    "plt.plot(x_1, 1 + 2.5*x_1, lw=3, label='A_3')\n",
    "plt.fill_between(x_1, 0, 1 + 2.5*x_1, alpha=0.1)\n",
    "\n",
    "# highlight the feasible region\n",
    "path = Path([\n",
    "    (0., 0.),\n",
    "    (0., 1.),\n",
    "    (2., 6.),\n",
    "    (3., 4.),\n",
    "    (2., 0.),\n",
    "])\n",
    "patch = PathPatch(path, label='Feasible region', alpha=0.5)\n",
    "ax.add_patch(patch)\n",
    "\n",
    "# labels and stuff\n",
    "plt.xlabel('x_1', fontsize=16)\n",
    "plt.ylabel('x_2', fontsize=16)\n",
    "plt.xlim(0, 6)\n",
    "plt.ylim(0, 8)\n",
    "plt.legend(fontsize=14)\n",
    "plt.show()"
   ]
  }
 ],
 "metadata": {
  "kernelspec": {
   "display_name": "Python 3",
   "language": "python",
   "name": "python3"
  },
  "language_info": {
   "codemirror_mode": {
    "name": "ipython",
    "version": 3
   },
   "file_extension": ".py",
   "mimetype": "text/x-python",
   "name": "python",
   "nbconvert_exporter": "python",
   "pygments_lexer": "ipython3",
   "version": "3.5.1"
  }
 },
 "nbformat": 4,
 "nbformat_minor": 0
}
